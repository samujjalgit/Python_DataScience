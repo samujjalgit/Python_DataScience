{
 "cells": [
  {
   "cell_type": "code",
   "execution_count": 1,
   "id": "5829b198",
   "metadata": {},
   "outputs": [
    {
     "name": "stdout",
     "output_type": "stream",
     "text": [
      "Enter the size of the list: 4\n",
      "12\n",
      "23\n",
      "24\n",
      "35\n",
      "[12, 23, 24, 35]\n"
     ]
    }
   ],
   "source": [
    "#creating a list\n",
    "myList = []\n",
    "r = int(input(\"Enter the size of the list: \"))\n",
    "for i in range(0,r):\n",
    "    temp = int(input())\n",
    "    myList.append(temp)\n",
    "print(myList)\n"
   ]
  },
  {
   "cell_type": "code",
   "execution_count": 3,
   "id": "8fa636c3",
   "metadata": {},
   "outputs": [
    {
     "name": "stdout",
     "output_type": "stream",
     "text": [
      "24\n"
     ]
    }
   ],
   "source": [
    "#accessing elements from the list\n",
    "print(myList[2])"
   ]
  },
  {
   "cell_type": "code",
   "execution_count": 4,
   "id": "faffdcdd",
   "metadata": {},
   "outputs": [
    {
     "name": "stdout",
     "output_type": "stream",
     "text": [
      "35\n"
     ]
    }
   ],
   "source": [
    "print(myList[-1])"
   ]
  },
  {
   "cell_type": "code",
   "execution_count": 5,
   "id": "dc40c635",
   "metadata": {},
   "outputs": [
    {
     "name": "stdout",
     "output_type": "stream",
     "text": [
      "24\n"
     ]
    }
   ],
   "source": [
    "print(myList[-2])"
   ]
  },
  {
   "cell_type": "code",
   "execution_count": 6,
   "id": "79b49da9",
   "metadata": {},
   "outputs": [
    {
     "name": "stdout",
     "output_type": "stream",
     "text": [
      "Enter the size of the list: 4\n",
      "12\n",
      "\"Sam\"\n",
      "34\n",
      "\"Apple\"\n",
      "['12', '\"Sam\"', '34', '\"Apple\"']\n"
     ]
    }
   ],
   "source": [
    "#creating a list with element of multiple data types.\n",
    "List = []\n",
    "n = int(input(\"Enter the size of the list: \"))\n",
    "for i in range(0,n):\n",
    "    temp = input()\n",
    "    List.append(temp)\n",
    "print(List)\n"
   ]
  },
  {
   "cell_type": "code",
   "execution_count": 8,
   "id": "3b148b1f",
   "metadata": {},
   "outputs": [
    {
     "name": "stdout",
     "output_type": "stream",
     "text": [
      "['34', '\"Apple\"']\n"
     ]
    }
   ],
   "source": [
    "#accessing elements in a specific range\n",
    "print(List[0:4])"
   ]
  },
  {
   "cell_type": "code",
   "execution_count": 9,
   "id": "ce0e1abc",
   "metadata": {},
   "outputs": [
    {
     "name": "stdout",
     "output_type": "stream",
     "text": [
      "['12', '\"Sam\"']\n"
     ]
    }
   ],
   "source": [
    "#displaying all elements from the beginning to a specific range\n",
    "print(List[:2])"
   ]
  },
  {
   "cell_type": "code",
   "execution_count": 13,
   "id": "5750ae32",
   "metadata": {},
   "outputs": [
    {
     "name": "stdout",
     "output_type": "stream",
     "text": [
      "['12', '\"Sam\"']\n"
     ]
    }
   ],
   "source": [
    "#negative index\n",
    "print(List[-4:-2])"
   ]
  },
  {
   "cell_type": "code",
   "execution_count": null,
   "id": "7113be6d",
   "metadata": {},
   "outputs": [],
   "source": []
  }
 ],
 "metadata": {
  "kernelspec": {
   "display_name": "Python 3 (ipykernel)",
   "language": "python",
   "name": "python3"
  },
  "language_info": {
   "codemirror_mode": {
    "name": "ipython",
    "version": 3
   },
   "file_extension": ".py",
   "mimetype": "text/x-python",
   "name": "python",
   "nbconvert_exporter": "python",
   "pygments_lexer": "ipython3",
   "version": "3.9.13"
  }
 },
 "nbformat": 4,
 "nbformat_minor": 5
}
